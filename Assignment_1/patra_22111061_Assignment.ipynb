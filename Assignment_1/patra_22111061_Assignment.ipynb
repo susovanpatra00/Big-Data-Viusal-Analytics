{
 "cells": [
  {
   "cell_type": "code",
   "execution_count": 1,
   "metadata": {},
   "outputs": [],
   "source": [
    "from vtk import *                   # Importing the VTK Library\n",
    "from vtk import vtkXMLImageDataReader\n",
    "from vtk import vtkXMLPolyDataWriter\n",
    "from vtk import vtkPoints\n",
    "from vtk import vtkFloatArray\n",
    "from vtk import vtkPolyData\n",
    "from vtk import vtkCellArray\n",
    "from vtk import vtkPolyLine"
   ]
  },
  {
   "cell_type": "code",
   "execution_count": 2,
   "metadata": {},
   "outputs": [],
   "source": [
    "## Load Data using vtkXMLImageDataReader()\n",
    "##  --------------------------------------\n",
    "\n",
    "reader = vtkXMLImageDataReader()                  # 'reader' is a object of vtkXMLImageDataReader()\n",
    "reader.SetFileName('Data/Isabel_2D.vti')          #  Using 'reader' we will read the '*.vti' file from given location.\n",
    "reader.Update()                                   #  Updating the 'reader' so that we always get the updated file.\n",
    "vtidata = reader.GetOutput()                      #  We are initializing the output of the .vti file into a variable \n",
    "                                                  #     named 'vtidata'"
   ]
  },
  {
   "attachments": {},
   "cell_type": "markdown",
   "metadata": {},
   "source": [
    "## 1. &nbsp; Data Query &nbsp; /  &nbsp;Processing Task"
   ]
  },
  {
   "cell_type": "code",
   "execution_count": 3,
   "metadata": {},
   "outputs": [
    {
     "name": "stdout",
     "output_type": "stream",
     "text": [
      "Number Of Cells :  62001\n"
     ]
    }
   ],
   "source": [
    "##  1.1  Number of cells in the dataset\n",
    "##  -----------------------------------\n",
    "\n",
    "numCells = vtidata.GetNumberOfCells()             # We will use the function 'GetNumberOfcells()' of vtk Library to \n",
    "print('Number Of Cells : ',numCells)                                   #    count the total number of cells in the .vti data."
   ]
  },
  {
   "cell_type": "code",
   "execution_count": 4,
   "metadata": {},
   "outputs": [
    {
     "name": "stdout",
     "output_type": "stream",
     "text": [
      "Dimension Of Our Data :  (250, 250, 1)\n"
     ]
    }
   ],
   "source": [
    "##  1.2  The dimensions of the dataset\n",
    "##  ----------------------------------\n",
    "\n",
    "dimData = vtidata.GetDimensions()                 # We will use the function 'GetDimensions()' of vtk Library to \n",
    "print('Dimension Of Our Data : ',dimData)         #    get the dimension of the data."
   ]
  },
  {
   "cell_type": "code",
   "execution_count": 5,
   "metadata": {},
   "outputs": [
    {
     "name": "stdout",
     "output_type": "stream",
     "text": [
      "Total Number Of Points :  62500\n"
     ]
    }
   ],
   "source": [
    "##  1.3   Number of Points in the dataset\n",
    "##  -------------------------------------\n",
    "\n",
    "numPoints = vtidata.GetNumberOfPoints()           # We will use the function 'GetDimensions()' of vtk Library to\n",
    "print('Total Number Of Points : ',numPoints)                                  #    the total number of points present in our data or vti image.\n",
    "\n",
    "## Relation with the Dimension of the dataset with the No. of points must be --> (dim1 * dim2 * dim3) = No. of Points\n",
    "## (250 * 250 * 1) = 62500 must be the no. of Points in the Dataset"
   ]
  },
  {
   "cell_type": "code",
   "execution_count": 6,
   "metadata": {},
   "outputs": [
    {
     "name": "stdout",
     "output_type": "stream",
     "text": [
      "Range Of pressure :  (-1434.8590087890625, 630.5694580078125)\n"
     ]
    }
   ],
   "source": [
    "##  1.4   Range of Pressure values present in the dataset  \n",
    "##  -----------------------------------------------------\n",
    "\n",
    "range_ = vtidata.GetPointData().GetArray('Pressure').GetRange()    \n",
    "print('Range Of pressure : ',range_)\n",
    "\n",
    "# Using the GetPointData(), GetRange() and GetArray() function we can get into the vtidata and then in the PointData \n",
    "#       we can fetch the Array named 'Pressure' and fetch the range of values it is having to get the range."
   ]
  },
  {
   "cell_type": "code",
   "execution_count": 7,
   "metadata": {},
   "outputs": [
    {
     "name": "stdout",
     "output_type": "stream",
     "text": [
      "Average Pressure value of the entire Dataset : 239.7985451967849\n"
     ]
    }
   ],
   "source": [
    "##  1.5   Average Pressure value of the entire dataset\n",
    "##  --------------------------------------------------\n",
    "\n",
    "total = 0                              # 'total' is a random variable I have taken to compute the Total Pressure.\n",
    "\n",
    "for i in range(0,numCells):            # Iterating the loop for Number of Cells time to get the Pressure Value \n",
    "                                       #    for all the cells present.\n",
    "\n",
    "    cell = vtidata.GetCell(i)          # Extracting all the cells one by one using GetCell() function.\n",
    "\n",
    "    pid1 = cell.GetPointId(0)          # Extracting all the 4 corner points of each cell using GetPointId() function\n",
    "    pid2 = cell.GetPointId(1)\n",
    "    pid3 = cell.GetPointId(3)\n",
    "    pid4 = cell.GetPointId(2)\n",
    "                                       \n",
    "    val1 = vtidata.GetPointData().GetArray('Pressure').GetTuple1(pid1)  # Extracting all the vertex value in each cell \n",
    "    val2 = vtidata.GetPointData().GetArray('Pressure').GetTuple1(pid2)  #    using the GetTuple1() function and passing\n",
    "    val3 = vtidata.GetPointData().GetArray('Pressure').GetTuple1(pid3)  #    the points we got from GetPointId() into \n",
    "    val4 = vtidata.GetPointData().GetArray('Pressure').GetTuple1(pid4)  #    the GetTuple1() function.\n",
    "\n",
    "    avg = (val1 + val2 + val3 +val4)/4        # Finding average for each cell\n",
    "    total += avg                              # Adding the average pressure value of each cell to 'total' for \n",
    "                                              #    computing the Cumulative average Pressure Value of each cell.\n",
    "\n",
    "\n",
    "print('Average Pressure value of the entire Dataset :' ,total/numCells)  # For finding the average I am dividing the \n",
    "                                                                         #   total Cumulative average pressure with\n",
    "                                                                         #   the total number of cells.  "
   ]
  },
  {
   "cell_type": "code",
   "execution_count": 8,
   "metadata": {},
   "outputs": [],
   "source": [
    "##  1.6   Extract a vtkCell object with cell id = 0\n",
    "##  -----------------------------------------------\n",
    "\n",
    "\n",
    "## Note : I have extracted the vtkCell object with cell id = 0 and all the operations below that are computed for \n",
    "##        cell id = 0. \n",
    "## Changing the cell id in the below section ( cell = vtidata.GetCell(*) ) will change the values of all other \n",
    "##    questions as per this cell no.\n",
    "\n",
    "\n",
    "############################\n",
    "cell = vtidata.GetCell(0)  #       # Very Important Line as all the Corner vertices and 3D vertices etc\n",
    "############################       #    everything that will be computed later will as per the cell given here.\n",
    "\n",
    "##############################\n",
    "pid1 = cell.GetPointId(0)    #    # Extracting all the 4 points of the cell using GetPointId() function\n",
    "pid2 = cell.GetPointId(1)    #    # Here I have taken the cell data for cell no. 0 so these points are of the cell 0 \n",
    "pid3 = cell.GetPointId(3)    #\n",
    "pid4 = cell.GetPointId(2)    #\n",
    "############################## \n",
    "\n",
    "#####################################################################\n",
    "val1 = vtidata.GetPointData().GetArray('Pressure').GetTuple1(pid1)  #   # Extracting all the vertex value in each cell \n",
    "val2 = vtidata.GetPointData().GetArray('Pressure').GetTuple1(pid2)  #   #    using getTuple1() function which we used\n",
    "val3 = vtidata.GetPointData().GetArray('Pressure').GetTuple1(pid3)  #   #    erlier\n",
    "val4 = vtidata.GetPointData().GetArray('Pressure').GetTuple1(pid4)  #\n",
    "#####################################################################"
   ]
  },
  {
   "cell_type": "code",
   "execution_count": 9,
   "metadata": {},
   "outputs": [
    {
     "name": "stdout",
     "output_type": "stream",
     "text": [
      "Corener Vertices of the Cell :\n",
      "0 , 1 , 251 , 250\n"
     ]
    }
   ],
   "source": [
    "## 1.7   The Indices of the four Corner Vertices of the cell\n",
    "## ---------------------------------------------------------\n",
    "\n",
    "print('Corener Vertices of the Cell :')               # Printing the Corner Vertices of the Cell\n",
    "print(pid1,\",\", pid2,\",\", pid3,\",\", pid4)             # Here it is computing for Cell 0"
   ]
  },
  {
   "cell_type": "code",
   "execution_count": 10,
   "metadata": {},
   "outputs": [
    {
     "name": "stdout",
     "output_type": "stream",
     "text": [
      "3D coordinate of each vertex :\n",
      "Vertex 1 : (0.0, 0.0, 25.0)\n",
      "Vertex 2 : (1.0, 0.0, 25.0)\n",
      "Vertex 3 : (1.0, 1.0, 25.0)\n",
      "Vertex 4 : (0.0, 1.0, 25.0)\n"
     ]
    }
   ],
   "source": [
    "##  1.8   The 3D coordinate of each vertex\n",
    "##  ---------------------------------------\n",
    "\n",
    "print('3D coordinate of each vertex :')          # Using the function GetPoint() and passing the corner points we \n",
    "print('Vertex 1 :',vtidata.GetPoint(pid1))       #    are getting the 3D coordinate of those points.\n",
    "print('Vertex 2 :',vtidata.GetPoint(pid2))       \n",
    "print('Vertex 3 :',vtidata.GetPoint(pid3))       # Note : As it is a 2D image so he z-axis is made constant to 25.\n",
    "print('Vertex 4 :',vtidata.GetPoint(pid4))"
   ]
  },
  {
   "cell_type": "code",
   "execution_count": 11,
   "metadata": {},
   "outputs": [
    {
     "name": "stdout",
     "output_type": "stream",
     "text": [
      "The 3D cooridnate of the Cell Centre is : ( 0.5 , 0.5 , 25.0 )\n"
     ]
    }
   ],
   "source": [
    "##  1.9   The Center Location\n",
    "##  -------------------------\n",
    "\n",
    "x = (vtidata.GetPoint(pid1)[0] + vtidata.GetPoint(pid2)[0] + vtidata.GetPoint(pid3)[0] + vtidata.GetPoint(pid4)[0])/4\n",
    "y = (vtidata.GetPoint(pid1)[1] + vtidata.GetPoint(pid2)[1] + vtidata.GetPoint(pid3)[1] + vtidata.GetPoint(pid4)[1])/4\n",
    "z = (vtidata.GetPoint(pid1)[2] + vtidata.GetPoint(pid2)[2] + vtidata.GetPoint(pid3)[2] + vtidata.GetPoint(pid4)[2])/4\n",
    "\n",
    "# To get the x-axis of Center, I have added all the x-axis values of the corner points and then divided it with 4 \n",
    "#    to get the average and that will be the x-axis of he center.\n",
    "# Similarly done for y-axis and z-axis.\n",
    "\n",
    "print('The 3D cooridnate of the Cell Centre is : (', x, \",\", y, \",\", z, ')')"
   ]
  },
  {
   "cell_type": "code",
   "execution_count": 12,
   "metadata": {},
   "outputs": [
    {
     "name": "stdout",
     "output_type": "stream",
     "text": [
      "Data / Attribute value (Pressure) of all the four vertices of the extracted cell :\n",
      "(0.0, 0.0, 25.0)  -  477.527587890625\n",
      "(1.0, 0.0, 25.0)  -  474.79827880859375\n",
      "(1.0, 1.0, 25.0)  -  467.60699462890625\n",
      "(0.0, 1.0, 25.0)  -  478.0115661621094\n"
     ]
    }
   ],
   "source": [
    "##  1.10   Data / Attribute value (Pressure) of all the four vertices of the extracted cell\n",
    "##  ---------------------------------------------------------------------------------------\n",
    "\n",
    "print('Data / Attribute value (Pressure) of all the four vertices of the extracted cell :')\n",
    "print(vtidata.GetPoint(pid1),\" - \",val1)                \n",
    "print(vtidata.GetPoint(pid2),\" - \",val2)           # We have computed the pressure values earlier using the functions\n",
    "print(vtidata.GetPoint(pid3),\" - \",val3)           #   GetPointData(), GetArray() and GetTuple1() and passing each\n",
    "print(vtidata.GetPoint(pid4),\" - \",val4)           #   corner point one by one into the function."
   ]
  },
  {
   "cell_type": "code",
   "execution_count": 13,
   "metadata": {},
   "outputs": [
    {
     "name": "stdout",
     "output_type": "stream",
     "text": [
      "Average Pressure value at the center :  474.4861068725586\n"
     ]
    }
   ],
   "source": [
    "##  1.11   Mean Pressure Value at the Center\n",
    "##  ----------------------------------------\n",
    "\n",
    "avgPress = (val1 + val2 + val3 + val4)/4                    # Adding the pressure value of all the four vertices and \n",
    "print('Average Pressure value at the center : ', avgPress)  #   then dividing it with 4 (no of vertices) to get the\n",
    "                                                            #   average pressure value at the centre."
   ]
  },
  {
   "cell_type": "code",
   "execution_count": null,
   "metadata": {},
   "outputs": [],
   "source": []
  },
  {
   "attachments": {},
   "cell_type": "markdown",
   "metadata": {},
   "source": [
    "## 2. &nbsp; Visualization Task"
   ]
  },
  {
   "cell_type": "code",
   "execution_count": 14,
   "metadata": {},
   "outputs": [],
   "source": [
    "## Creating Polydata object and inserting points to it\n",
    "##  --------------------------------------------------\n",
    "\n",
    "poldata = vtkPolyData()        # Creating a vtkPolydata object named 'poldata' using vtkPolyData() function\n",
    "\n",
    "\n",
    "points = vtkPoints()           # Creating a object of vtkPoints to add it to the vtkPolyData    \n",
    "\n",
    "points.InsertNextPoint(vtidata.GetPoint(pid1))      # Using InsertnextPoint() I am inserting the corner points of the\n",
    "points.InsertNextPoint(vtidata.GetPoint(pid2))      #   cell in the vtkPoints one by one\n",
    "points.InsertNextPoint(vtidata.GetPoint(pid3))\n",
    "points.InsertNextPoint(vtidata.GetPoint(pid4))\n",
    "\n",
    "poldata.SetPoints(points)      # Adding the points to the PolyData\n"
   ]
  },
  {
   "cell_type": "code",
   "execution_count": 15,
   "metadata": {},
   "outputs": [
    {
     "data": {
      "text/plain": [
       "0"
      ]
     },
     "execution_count": 15,
     "metadata": {},
     "output_type": "execute_result"
    }
   ],
   "source": [
    "## Specifying a separate value for each point\n",
    "##  -----------------------------------------\n",
    "\n",
    "colors = vtkUnsignedCharArray()                # Creating a vtkUnsignedCharArray to store the RGB values\n",
    "colors.SetNumberOfComponents(3)                # Setting the Number Of Components to 3 as R,G,B\n",
    "colors.SetName(\"Colors\")                       # Setting the setname to Colors\n",
    "\n",
    "                                               # Now using InserNextTuple3() we will insert the colour values one by one\n",
    "                                               #    in the 'colors' array \n",
    "colors.InsertNextTuple3(255,0,0)               # First Point (0,0,25) - Red \n",
    "colors.InsertNextTuple3(117,251,77)            # Second Point (1,0,25) - Light Green \n",
    "colors.InsertNextTuple3(116,249,253)           # Third Point (1,1,25) - Light Blue \n",
    "colors.InsertNextTuple3(0,0,241)               # Forth Point (0,1,25) - Blue\n",
    "\n",
    "poldata.GetPointData().SetScalars(colors)      # Now the colors array is passed into the poldata with respective points\n",
    "                                               #   by setting the scalars to colors values."
   ]
  },
  {
   "cell_type": "code",
   "execution_count": 16,
   "metadata": {},
   "outputs": [],
   "source": [
    "## Creating Visual Representations for each point\n",
    "## ----------------------------------------------\n",
    "\n",
    "VertexGlpyh = vtkVertexGlyphFilter()           # Creating a object of vtkVertexGlyphFilter() to create visual \n",
    "                                               #   representations for each point in the form of a Vertex Glyph.\n",
    "\n",
    "VertexGlpyh.AddInputData(poldata)              # Adding the poldata into the object of vtkVertexGlyphFilter()\n",
    "VertexGlpyh.Update()                           # Updating for latest case scenario"
   ]
  },
  {
   "cell_type": "code",
   "execution_count": 17,
   "metadata": {},
   "outputs": [],
   "source": [
    "## Setting up mapper and actor\n",
    "##  --------------------------\n",
    "\n",
    "mapper = vtkPolyDataMapper()              # Creating a object of vtkPolyDataMapper() to map the poly data to the actor\n",
    "mapper.SetInputData(poldata)                # Inserting the poly data in the mapper\n",
    "\n",
    "mapper.SetInputConnection(VertexGlpyh.GetOutputPort())    # Creating the mapper's Input connection by inserting the\n",
    "                                                          #    output of VertexGlpyh\n",
    "\n",
    "\n",
    "actor = vtkActor()                       # Creating a object of vtkActor() to show it in the renderer window\n",
    "actor.SetMapper(mapper)                  # Mapping the mapper to actor using the SetMapper() function abd passing \n",
    "                                         #    mapper to it\n",
    "\n",
    "actor.GetProperty().SetPointSize(30)     # Setting the point size to 30 for better visualization using SetPointSize()\n",
    "                                         #     function"
   ]
  },
  {
   "cell_type": "code",
   "execution_count": 18,
   "metadata": {},
   "outputs": [],
   "source": [
    "## Setup render window, renderer, and interactor\n",
    "## ---------------------------------------------\n",
    "\n",
    "renderer = vtkRenderer()                       # Creating a object of vtkRenderer() \n",
    "renderer.SetBackground(1,1,1)                  # Setting Renderer background colour to white\n",
    "\n",
    "renderWindow = vtkRenderWindow()               # Creating a object of vtkRenderer() to use it creating renderer\n",
    "renderWindow.SetSize(800,800)                  # Specifying the size of the renderer window \n",
    "\n",
    "renderWindow.AddRenderer(renderer)             # Adding renderer to the renderer window\n",
    "renderWindowInteractor = vtkRenderWindowInteractor()     \n",
    "renderWindowInteractor.SetRenderWindow(renderWindow)\n",
    "renderer.AddActor(actor)                       # Adding actor to the renderer to visualize the points we added \n",
    "                                               #    to the actor"
   ]
  },
  {
   "cell_type": "code",
   "execution_count": 19,
   "metadata": {},
   "outputs": [],
   "source": [
    "## Finally render the object\n",
    "## -------------------------\n",
    "\n",
    "renderWindow.Render()\n",
    "renderWindowInteractor.Start()"
   ]
  },
  {
   "cell_type": "code",
   "execution_count": null,
   "metadata": {},
   "outputs": [],
   "source": []
  }
 ],
 "metadata": {
  "kernelspec": {
   "display_name": "Python 3",
   "language": "python",
   "name": "python3"
  },
  "language_info": {
   "codemirror_mode": {
    "name": "ipython",
    "version": 3
   },
   "file_extension": ".py",
   "mimetype": "text/x-python",
   "name": "python",
   "nbconvert_exporter": "python",
   "pygments_lexer": "ipython3",
   "version": "3.11.1 (v3.11.1:a7a450f84a, Dec  6 2022, 15:24:06) [Clang 13.0.0 (clang-1300.0.29.30)]"
  },
  "orig_nbformat": 4,
  "vscode": {
   "interpreter": {
    "hash": "aee8b7b246df8f9039afb4144a1f6fd8d2ca17a180786b69acc140d282b71a49"
   }
  }
 },
 "nbformat": 4,
 "nbformat_minor": 2
}
