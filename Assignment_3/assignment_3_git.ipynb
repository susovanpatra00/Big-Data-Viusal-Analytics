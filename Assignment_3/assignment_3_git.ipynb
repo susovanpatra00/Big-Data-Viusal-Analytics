{
 "cells": [
  {
   "cell_type": "code",
   "execution_count": 1,
   "id": "4c186061",
   "metadata": {},
   "outputs": [],
   "source": [
    "## Import all the necessary libraries \n",
    "## ----------------------------------\n",
    "\n",
    "import random\n",
    "import plotly.subplots as sp\n",
    "import plotly.graph_objs as go         \n",
    "import numpy as np                     \n",
    "import vtk\n",
    "import ipywidgets as widgets\n",
    "from ipywidgets import interactive"
   ]
  },
  {
   "cell_type": "code",
   "execution_count": null,
   "id": "b508662e",
   "metadata": {},
   "outputs": [],
   "source": [
    "## Load Data\n",
    "## ------------------------------------------\n",
    "temp = vtk.vtkXMLImageDataReader()          # 'temp' is a object of vtkXMLImageDataReader()\n",
    "temp.SetFileName('mixture.vti')             #  Using 'temp' we will read the 'mixture.vti' file from given location\n",
    "temp.Update()                               #  Updating the 'temp' so that we always get the updated file\n",
    "vti_data = temp.GetOutput()                 #  We are initializing the output of the .vti file into a variable \n",
    "                                            #     named 'vti_data'\n",
    "## ------------------------------------------"
   ]
  },
  {
   "cell_type": "code",
   "execution_count": null,
   "id": "cdc5e90c",
   "metadata": {},
   "outputs": [],
   "source": [
    "## Converting the VTI data as a NumPy array\n",
    "## ----------------------------------------\n",
    "np_data = np.array(vti_data.GetPointData().GetScalars())    # Using the GetPointData(), GetScalars() function we can get into \n",
    "                                                            #   the vtidata and then in the PointData we can fetch the scalar\n",
    "                                                            #   values.\n",
    "\n",
    "np_data = np_data.reshape(vti_data.GetDimensions())   \n",
    "np_data = np_data.transpose(2,1,0)                  # Here I am transposing the data as after converting the vti_data into\n",
    "                                                    #   numpy data the correct order of dimensions of the numpy data got \n",
    "                                                    #   changed and to ensure it's correct order I am using transpose. "
   ]
  },
  {
   "cell_type": "code",
   "execution_count": null,
   "id": "f015010e",
   "metadata": {},
   "outputs": [],
   "source": [
    "## Creating a 3D grid of points to use for coordinates\n",
    "## ---------------------------------------------------\n",
    "X, Y, Z = np.mgrid[:np_data.shape[0], :np_data.shape[1], :np_data.shape[2]] \n",
    "\n",
    "# Here I have used np.mgrid() function to create coordinate arrays to use it in Isosurface trace in Plotly"
   ]
  },
  {
   "cell_type": "code",
   "execution_count": null,
   "id": "3ae0a6ec",
   "metadata": {},
   "outputs": [],
   "source": [
    "## Creating a Plotly Isosurface trace\n",
    "## ----------------------------------\n",
    "                                           \n",
    "isosurface = go.Isosurface(                # Using 'go.Isosurface' I am creating a Plotly Isosurface trace \n",
    "    x = X.flatten(),                       # Here I am flattening the X, Y, Z coordinate data to reshape the coordinate \n",
    "    y = Y.flatten(),                       #   arrays into one-dimensional arrays to match the format required by the trace\n",
    "    z = Z.flatten(),\n",
    "    value = np_data.flatten(),             # Passing the flattened np_data so that it can be connected to the respective\n",
    "    opacity = 0.65,                        #    coordinate values\n",
    "    isomin = 0.0,                          # Opacity value is set as 0.65 \n",
    "    isomax = 0.0,                          # I have set both isomin and isomax to 0.0 as we need isovalue as 0.0\n",
    "    surface_count = 3,                     # Setting maximum surfaces to 3\n",
    "    colorscale = 'oranges',                       # Setting the colorscale to 'Oranges'\n",
    "    caps = dict(x_show = False, y_show = False),  # Removing the caps when visualizing the isosurface\n",
    "    showscale = False\n",
    "    )"
   ]
  },
  {
   "cell_type": "code",
   "execution_count": null,
   "id": "5afb9eff",
   "metadata": {},
   "outputs": [],
   "source": [
    "## Creating Histogram trace\n",
    "## ------------------------\n",
    "\n",
    "histogram = go.Histogram(           # Using go.Histogram I am creating a Plotly Histogram trace\n",
    "    x = np_data.flatten(),          # I am giving my numpy data after flattening it into one-D array\n",
    "    nbinsx = 50,                    # I kept the bin size as 50 as it is the optimal bin size.\n",
    "    marker = dict(                  \n",
    "        color = 'blue',             # Making the histogram blue in colour\n",
    "        opacity = 1                 # Made opacity as 1 as it's only bar \n",
    "    )\n",
    ")"
   ]
  },
  {
   "cell_type": "code",
   "execution_count": null,
   "id": "eb377b17",
   "metadata": {},
   "outputs": [],
   "source": [
    "## Creating subplot for Isosurface and Histogram\n",
    "## ---------------------------------------------\n",
    "\n",
    "fig = sp.make_subplots(rows = 1, cols = 2, specs = [[{'type': 'scene'}, {'type': 'xy'}]]) \n",
    "\n",
    "# Made 1st figure as 'scene' as it is for Isosurface and made 2nd figure 'xy' type as it is for Histogram\n",
    "\n",
    "\n",
    "fig.add_trace(isosurface, row = 1, col = 1)   # Adding the Isosurface trace to Figure\n",
    "fig.add_trace(histogram, row = 1, col = 2)    # Adding the Histogram trace to Figure\n",
    "\n",
    "fig.update_layout(         \n",
    "    scene = dict(               # Updating the layout for Isosurface\n",
    "        xaxis_title = 'X',\n",
    "        yaxis_title = 'Y',\n",
    "        zaxis_title = 'Z',\n",
    "    ),                          # Updating the layout for Histogram\n",
    "    xaxis = dict(title = 'Vortex Scalar Values'),\n",
    "    yaxis = dict(title = 'Frequency'),\n",
    ")"
   ]
  },
  {
   "cell_type": "code",
   "execution_count": null,
   "id": "c33c40be",
   "metadata": {},
   "outputs": [],
   "source": [
    "## Creating a Slider \n",
    "## -----------------\n",
    "\n",
    "isovalue_slider = widgets.FloatSlider(\n",
    "    value = 0.0, \n",
    "    min = np.min(np_data),       # For the range the existing data I have set the min and max\n",
    "    max = np.max(np_data),\n",
    "    step = 0.05,                 # Step count is set to 0.05\n",
    "    description = 'Isoval:',      \n",
    "    continuous_update = True,    # Continuous Update has been made 'True'\n",
    "    readout = True,              \n",
    "    readout_format = '.2f'\n",
    "    \n",
    ")\n",
    "isovalue_slider.layout.width = '45%'     # Slider width has been made to 45 %\n",
    "\n",
    "button = widgets.Button(description = \"Reset\")    # Making a reset button using widgets"
   ]
  },
  {
   "cell_type": "code",
   "execution_count": null,
   "id": "f6a6a28a",
   "metadata": {},
   "outputs": [],
   "source": [
    "## Defining Update Funstion and Colour Change Functions\n",
    "## ----------------------------------------------------\n",
    "\n",
    "# Total number of colours supported by Plotly\n",
    "total_colours = {'aggrnyl', 'agsunset', 'algae', 'amp', 'armyrose', 'balance',\n",
    "             'blackbody', 'bluered', 'blues', 'blugrn', 'bluyl', 'brbg',\n",
    "             'brwnyl', 'bugn', 'bupu', 'burg', 'burgyl', 'cividis', 'curl',\n",
    "             'darkmint', 'deep', 'delta', 'dense', 'earth', 'edge', 'electric',\n",
    "             'emrld', 'fall', 'geyser', 'gnbu', 'gray', 'greens', 'greys',\n",
    "             'haline', 'hot', 'hsv', 'ice', 'icefire', 'inferno', 'jet',\n",
    "             'magenta', 'magma', 'matter', 'mint', 'mrybm', 'mygbm', 'oranges',\n",
    "             'orrd', 'oryel', 'oxy', 'peach', 'phase', 'picnic', 'pinkyl',\n",
    "             'piyg', 'plasma', 'plotly3', 'portland', 'prgn', 'pubu', 'pubugn',\n",
    "             'puor', 'purd', 'purp', 'purples', 'purpor', 'rainbow', 'rdbu',\n",
    "             'rdgy', 'rdpu', 'rdylbu', 'rdylgn', 'redor', 'reds', 'solar',\n",
    "             'spectral', 'speed', 'sunset', 'sunsetdark', 'teal', 'tealgrn',\n",
    "             'tealrose', 'tempo', 'temps', 'thermal', 'tropic', 'turbid',\n",
    "             'turbo', 'twilight', 'viridis', 'ylgn', 'ylgnbu', 'ylorbr',\n",
    "             'ylorrd'}\n",
    "\n",
    "\n",
    "def colour_choice (set_c):           # Function for returning a random colour from the colour pool we have\n",
    "    return random.choice(list(set_c))\n",
    "\n",
    "\n",
    "def histo_update(isovalue):         # Function for updating the histogram according to the slider\n",
    "    arr1 = []\n",
    "    if (isovalue == 0.0):          # If equal to 0.0 then whole data is passed\n",
    "        arr1 = np_data.flatten()\n",
    "    else:                           # Otherwise the required range is passed\n",
    "        arr1 = np_data[np.logical_and(np_data >= (isovalue - 0.25) , np_data <= (isovalue + 0.25))].flatten()\n",
    "    return arr1\n",
    "    \n",
    "    \n",
    "def update_isosurface(isovalue):     # Update function whenever slider value changes\n",
    "    fig.data[0].isomin = isovalue    # Setting the Isosurface as per the isovalue changes\n",
    "    fig.data[0].isomax = isovalue\n",
    "    fig.data[0].colorscale = colour_choice(total_colours)   # Calling colour_choice function to get a colour\n",
    "    fig.data[1].x = histo_update(isovalue)\n",
    "                                     # Updating the Histogram according to the isovalue\n",
    "\n",
    "\n",
    "def changing_isoval(x):                 # Defining an function which will update both the isosurface and Histogram \n",
    "    update_isosurface(x)   #   and then returning the figure\n",
    "    return fig.show()\n",
    "\n",
    "s = interactive(changing_isoval,x = isovalue_slider)  # Just a normal interactive ipywidget to call the changing_isoval\n",
    "                                         #  function whenever isoval changes in the slider\n",
    "\n",
    "def on_button_click(b):    # Function for reset button \n",
    "    isovalue_slider.value = 0.0    # Default value whenever reset is made to 0.0\n",
    "\n",
    "\n",
    "button.on_click(on_button_click)   # Calling .on_click so that whenever it presses the reset button it calls\n",
    "                                   #   the on_button_click() function"
   ]
  },
  {
   "cell_type": "code",
   "execution_count": null,
   "id": "490b1d3e",
   "metadata": {},
   "outputs": [],
   "source": [
    "display(button,s)    # Displaying the button and isovalue_slider with isosurface and Histogram"
   ]
  }
 ],
 "metadata": {
  "kernelspec": {
   "display_name": "Python 3 (ipykernel)",
   "language": "python",
   "name": "python3"
  },
  "language_info": {
   "codemirror_mode": {
    "name": "ipython",
    "version": 3
   },
   "file_extension": ".py",
   "mimetype": "text/x-python",
   "name": "python",
   "nbconvert_exporter": "python",
   "pygments_lexer": "ipython3",
   "version": "3.11.2"
  }
 },
 "nbformat": 4,
 "nbformat_minor": 5
}
